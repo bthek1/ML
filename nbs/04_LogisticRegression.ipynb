{
 "cells": [
  {
   "cell_type": "markdown",
   "id": "de1cb2b2-6165-4bc1-8175-ea948d5c4fb7",
   "metadata": {},
   "source": [
    "# Logistic Regression\n",
    "\n",
    "> Logistic Regression"
   ]
  },
  {
   "cell_type": "code",
   "execution_count": null,
   "id": "34d5de8f-a81d-43b4-9b92-83e5db74a0fe",
   "metadata": {},
   "outputs": [],
   "source": [
    "#| default_exp logisticregression"
   ]
  },
  {
   "cell_type": "code",
   "execution_count": null,
   "id": "2efaa640-5cf2-4abd-a7cc-98c351cda404",
   "metadata": {},
   "outputs": [],
   "source": []
  }
 ],
 "metadata": {
  "kernelspec": {
   "display_name": "python3",
   "language": "python",
   "name": "python3"
  }
 },
 "nbformat": 4,
 "nbformat_minor": 5
}
