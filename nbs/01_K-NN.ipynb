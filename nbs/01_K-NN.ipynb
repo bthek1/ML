{
 "cells": [
  {
   "cell_type": "markdown",
   "id": "0f1172b9-ebe5-4833-83a2-79f8833c9e85",
   "metadata": {},
   "source": [
    "# K-NN\n",
    "\n",
    "> K-NN"
   ]
  },
  {
   "cell_type": "code",
   "execution_count": null,
   "id": "d3c9ab1f-922d-4548-a099-f2edfd78e4b6",
   "metadata": {},
   "outputs": [],
   "source": [
    "#| default_exp knn"
   ]
  },
  {
   "cell_type": "code",
   "execution_count": null,
   "id": "cbba1c58-54a3-45e7-96c8-deeb39ca12c5",
   "metadata": {},
   "outputs": [],
   "source": [
    "#| export\n",
    "def sayhello(name): return f'Hello {name}'"
   ]
  },
  {
   "cell_type": "code",
   "execution_count": null,
   "id": "a672beb0-fd6d-47a0-b166-248812ae0657",
   "metadata": {},
   "outputs": [],
   "source": []
  }
 ],
 "metadata": {
  "kernelspec": {
   "display_name": "python3",
   "language": "python",
   "name": "python3"
  }
 },
 "nbformat": 4,
 "nbformat_minor": 5
}
