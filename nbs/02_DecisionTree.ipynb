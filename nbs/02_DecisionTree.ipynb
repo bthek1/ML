{
 "cells": [
  {
   "cell_type": "markdown",
   "id": "d8c7f992-3642-425c-b01e-c99a38b3f0c0",
   "metadata": {},
   "source": [
    "# Decision Tree\n",
    "\n",
    "> Decision Tree"
   ]
  },
  {
   "cell_type": "code",
   "execution_count": null,
   "id": "0a8ccc55-9ba1-47ff-9267-cf4a016449e3",
   "metadata": {},
   "outputs": [],
   "source": [
    "#| default_exp decisiontree"
   ]
  },
  {
   "cell_type": "code",
   "execution_count": null,
   "id": "1e7ee1e2-c85f-4308-a552-017db5849e18",
   "metadata": {},
   "outputs": [],
   "source": []
  }
 ],
 "metadata": {
  "kernelspec": {
   "display_name": "python3",
   "language": "python",
   "name": "python3"
  }
 },
 "nbformat": 4,
 "nbformat_minor": 5
}
