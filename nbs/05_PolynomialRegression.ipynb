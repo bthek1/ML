{
 "cells": [
  {
   "cell_type": "markdown",
   "id": "e2f431b2-f874-4b26-a068-61636eb3cbcb",
   "metadata": {},
   "source": [
    "# Polynomial Regression\n",
    "\n",
    "> Polynomial Regression "
   ]
  },
  {
   "cell_type": "code",
   "execution_count": null,
   "id": "05e5adc9-9dbd-48f5-b459-90a6eb4336dc",
   "metadata": {},
   "outputs": [],
   "source": [
    "#| default_exp ploynomialregression"
   ]
  },
  {
   "cell_type": "code",
   "execution_count": null,
   "id": "46c81c8e-4c03-47e4-a799-2bf87e65f5cc",
   "metadata": {},
   "outputs": [],
   "source": []
  }
 ],
 "metadata": {
  "kernelspec": {
   "display_name": "python3",
   "language": "python",
   "name": "python3"
  }
 },
 "nbformat": 4,
 "nbformat_minor": 5
}
