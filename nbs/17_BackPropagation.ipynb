{
 "cells": [
  {
   "cell_type": "markdown",
   "id": "9f37bf77-abc9-4e8d-8907-f450148dea48",
   "metadata": {},
   "source": [
    "# Back Propagation\n",
    "\n",
    "> Back Propagation (coming soon)"
   ]
  },
  {
   "cell_type": "code",
   "execution_count": null,
   "id": "21c97d35-5888-4e2d-a76e-eec4fca64071",
   "metadata": {},
   "outputs": [],
   "source": [
    "#| default_exp back"
   ]
  },
  {
   "cell_type": "code",
   "execution_count": null,
   "id": "d56e1c5b-97e3-4c0f-80e1-5f87b99a6690",
   "metadata": {},
   "outputs": [],
   "source": []
  }
 ],
 "metadata": {
  "kernelspec": {
   "display_name": "python3",
   "language": "python",
   "name": "python3"
  },
  "widgets": {
   "application/vnd.jupyter.widget-state+json": {
    "state": {},
    "version_major": 2,
    "version_minor": 0
   }
  }
 },
 "nbformat": 4,
 "nbformat_minor": 5
}
