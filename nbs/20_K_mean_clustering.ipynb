{
 "cells": [
  {
   "cell_type": "markdown",
   "id": "7786ff12-a11b-4619-9613-7cbbeb923e3b",
   "metadata": {},
   "source": [
    "# K Mean Clustering\n",
    "\n",
    "> K Mean Clustering\n",
    "\n",
    "- skip_showdoc: true\n",
    "- skip_exec: true"
   ]
  },
  {
   "cell_type": "code",
   "execution_count": null,
   "id": "070cb3ab-9bce-4bb9-a68a-aad916cd60f4",
   "metadata": {},
   "outputs": [],
   "source": []
  }
 ],
 "metadata": {
  "kernelspec": {
   "display_name": "python3",
   "language": "python",
   "name": "python3"
  }
 },
 "nbformat": 4,
 "nbformat_minor": 5
}
