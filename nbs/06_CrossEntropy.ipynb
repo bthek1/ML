{
 "cells": [
  {
   "cell_type": "markdown",
   "id": "36892b59-d92f-45ef-ad7f-e395e819746c",
   "metadata": {},
   "source": [
    "# Cross Entropy\n",
    "\n",
    "> Cross Entropy "
   ]
  },
  {
   "cell_type": "code",
   "execution_count": null,
   "id": "c631e393-4cd8-4aef-9382-574dc48eeef9",
   "metadata": {},
   "outputs": [],
   "source": [
    "#| default_exp crossentropy"
   ]
  },
  {
   "cell_type": "code",
   "execution_count": null,
   "id": "4ac81020-1902-4131-9ecc-0bf173dab895",
   "metadata": {},
   "outputs": [],
   "source": []
  }
 ],
 "metadata": {
  "kernelspec": {
   "display_name": "python3",
   "language": "python",
   "name": "python3"
  }
 },
 "nbformat": 4,
 "nbformat_minor": 5
}
