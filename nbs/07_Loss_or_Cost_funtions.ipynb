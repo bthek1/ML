{
 "cells": [
  {
   "cell_type": "markdown",
   "id": "9f37bf77-abc9-4e8d-8907-f450148dea48",
   "metadata": {},
   "source": [
    "# Loss or Cost funtions\n",
    "\n",
    "> Loss or Cost funtions"
   ]
  },
  {
   "cell_type": "code",
   "execution_count": null,
   "id": "21c97d35-5888-4e2d-a76e-eec4fca64071",
   "metadata": {},
   "outputs": [],
   "source": [
    "#| default_exp loss"
   ]
  },
  {
   "cell_type": "markdown",
   "id": "54e5a1a1-e621-4dd3-8859-4bff54362bac",
   "metadata": {},
   "source": [
    "## Loss Functions in Brief"
   ]
  },
  {
   "cell_type": "markdown",
   "id": "8b292097-d9c9-4360-826c-8afcbba95126",
   "metadata": {},
   "source": [
    "The key takeaway is that the loss function is a measurable way to gauge the performance and accuracy of a machine learning model. In this case, the loss function acts as a guide for the learning process within a model or machine learning algorithm.\n",
    "\n",
    "The role of the loss function is crucial in the training of machine learning models and includes the following:\n",
    "\n",
    "- Performance measurement: Loss functions offer a clear metric to evaluate a model's performance by quantifying the difference between predictions and actual results.\n",
    "- Direction for improvement: Loss functions guide model improvement by directing the algorithm to adjust parameters(weights) iteratively to reduce loss and improve predictions.\n",
    "- Balancing bias and variance: Effective loss functions help balance model bias (oversimplification) and variance (overfitting), essential for the model's generalization to new data.\n",
    "- Influencing model behavior: Certain loss functions can affect the model's behavior, such as being more robust against data outliers or prioritizing specific types of errors.\n",
    "\n",
    "\n",
    "Let's explore the roles of particular loss functions in later sections and build a detailed intuition and understanding of the loss function."
   ]
  },
  {
   "cell_type": "markdown",
   "id": "ff03a95f-ff92-4d30-850d-5ee2107a627a",
   "metadata": {},
   "source": [
    "## Applicability to Classification"
   ]
  },
  {
   "cell_type": "markdown",
   "id": "95e8f8b2-0c59-477f-8fd5-35b181046cd1",
   "metadata": {},
   "source": [
    "### Binary Cross-Entropy Loss / Log Loss\n",
    "\n",
    "To understand Binary Cross-Entropy Loss, sometimes called Log Loss, it is helpful to discuss the components of the terms.\n",
    "- Loss: This is a mathematical quantification of the margin/difference between the prediction of a machine learning algorithm and the actual target value.\n",
    "- Entropy: A simple definition of entropy is that it is a calculation of the degree of randomness or disorder within a system\n",
    "- Cross Entropy: This is a term commonly utilised in information theory, and it measures the differences between two probability distributions that can be used to identify an observation.\n",
    "- Binary: This is an expression of numerical digits using either of two states, 0 or 1. This is extended to the definition of Binary Classification where we ditingus=ish two classes(A and B) using binary representation, where class A is assigned the numerical representation of 0 and class B is assigned 1."
   ]
  },
  {
   "cell_type": "markdown",
   "id": "d351477c-ee82-4f67-9ac6-74ac51a02e2f",
   "metadata": {},
   "source": [
    "$L(y , f(x)) = -[y * log(f(x)) + (1 - y) * log(1 - f(x))]$\n",
    "\n",
    "Where:\n",
    "\n",
    "    L represents the Binary Cross-Entropy Loss function\n",
    "    y is the true binary label (0 or 1)\n",
    "    f(x) is the predicted probability of the positive class (between 0 and 1)\n"
   ]
  },
  {
   "cell_type": "markdown",
   "id": "82352928-f38d-43ca-bc15-35abbec0a0e7",
   "metadata": {},
   "source": [
    "### Categorical Cross-Entropy Loss"
   ]
  },
  {
   "cell_type": "markdown",
   "id": "2dcf1a65-3fe8-481c-af39-1487ba1ebb7e",
   "metadata": {},
   "source": [
    "### Hinge Loss\n",
    "> Hinge Loss is a loss function utilized within machine learning to train classifiers that optimize to increase the margin between data points and the decision boundary. Hence, it is mainly used for maximum margin classifications. To ensure the maximum margin between the data points and boundaries, hinge loss penalizes predictions from the machine learning model that are wrongly classified, which are predictions that fall on the wrong side of the margin boundary and also predictions that are correctly classified but are within close proximity to the decision boundary."
   ]
  },
  {
   "cell_type": "markdown",
   "id": "ce2e897e-fb29-483b-8d8b-a2cf0ebf7f5a",
   "metadata": {},
   "source": [
    "$L(y - f(x)) = \\max(0, 1 - y * f(x))$\n",
    "Where:\n",
    "\n",
    "    L represents the Hinge Loss\n",
    "    y is the true label or target value (-1 or 1)\n",
    "    f(x) is the predicted value or decision function output"
   ]
  },
  {
   "cell_type": "markdown",
   "id": "8374a197-66bc-473b-a806-45009692a6ae",
   "metadata": {},
   "source": [
    "### Log Loss\n",
    " \n",
    " \n",
    " "
   ]
  },
  {
   "cell_type": "markdown",
   "id": "e530bcbf-c684-42c2-ac29-27bfbdf1d279",
   "metadata": {},
   "source": [
    "## Applicability to Regression"
   ]
  },
  {
   "cell_type": "markdown",
   "id": "f1c1321d-30d4-407e-8c8c-ce27d0428b07",
   "metadata": {},
   "source": [
    "### Mean Square Error (MSE) / L2 Loss\n",
    "> MSE is a standard loss function utilized in most regression tasks since it directs the model to optimize to minimize the squared differences between the predicted and target values."
   ]
  },
  {
   "cell_type": "markdown",
   "id": "deb3f4df-5503-4b21-a804-339b3f8a4a7d",
   "metadata": {},
   "source": [
    "$MSE  = \\dfrac{1}{n} * \\sum(y_i -\\bar{y})^2$\n",
    "\n",
    "Where:\n",
    "\n",
    "    n is the number of samples in the dataset\n",
    "    yᵢ is the predicted value for the i-th sample\n",
    "    ȳ is the target value for the i-th sample"
   ]
  },
  {
   "cell_type": "markdown",
   "id": "bd6cefc0-b69f-4491-9381-0eeafbf34a8e",
   "metadata": {},
   "source": [
    "### Mean Absolute Error (MAE) / L1 Loss\n",
    "> A scenario where MAE is an applicable loss function is one where we don't want to penalize outliers considerably or at all, for example, predicting delivery times for a food delivery company.\n",
    "\n",
    "\n",
    "$MAE  = \\dfrac{1}{n} * \\sum(y_i -\\bar{y})$\n",
    "\n",
    "Where:\n",
    "\n",
    "    n is the number of samples in the dataset\n",
    "    yᵢ is the predicted value for the i-th sample\n",
    "    ȳ is the target value for the i-th sample"
   ]
  },
  {
   "cell_type": "markdown",
   "id": "88531890-2b6b-4e72-9a15-593da2d8aa7f",
   "metadata": {},
   "source": [
    "### Huber Loss / Smooth Mean Absolute Error\n",
    "> The Huber Loss function effectively combines two components for handling errors differently, with the transition point between these components determined by the threshold δ:\\\n",
    "> Quadratic Component for Small Errors: For errors smaller than δ, it uses the quadratic component (1/2) * (f(x) - y)^2\\\n",
    "> Linear Component for Large Errors: For errors larger than δ, it applies the linear component δ * |f(x) - y| - (1/2) * δ^2"
   ]
  },
  {
   "cell_type": "markdown",
   "id": "0883fc63-6725-49f5-a1b8-23980f7ad2d8",
   "metadata": {},
   "source": [
    "$L(\\delta, y , f(x)) = \\dfrac{1}{2} * (f(x) - y)^2 \\quad if \\quad |f(x) - y| <= \\delta$\\\n",
    "$\\quad \\quad \\quad \\quad = \\delta * |f(x) - y| - \\dfrac{1}{2} * \\delta^2 \\quad if \\quad |f(x) - y| > \\delta$\n",
    "\n",
    "Where:\n",
    "\n",
    "    L represents the Huber Loss function\n",
    "    δ is the delta parameter, which determines the threshold for switching between the quadratic and linear components of the loss function\n",
    "    y is the true value or target value\n",
    "    f(x) is the predicted value"
   ]
  },
  {
   "cell_type": "code",
   "execution_count": null,
   "id": "ca0a5c35-4934-423b-b7e6-dac06ff8ed0d",
   "metadata": {},
   "outputs": [],
   "source": []
  }
 ],
 "metadata": {
  "kernelspec": {
   "display_name": "python3",
   "language": "python",
   "name": "python3"
  },
  "widgets": {
   "application/vnd.jupyter.widget-state+json": {
    "state": {},
    "version_major": 2,
    "version_minor": 0
   }
  }
 },
 "nbformat": 4,
 "nbformat_minor": 5
}
