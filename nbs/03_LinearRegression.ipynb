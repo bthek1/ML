{
 "cells": [
  {
   "cell_type": "markdown",
   "id": "40023f4a-6748-4a99-9d47-12bc95e93891",
   "metadata": {},
   "source": [
    "# Linear Regression\n",
    "\n",
    "> Linear Regression"
   ]
  },
  {
   "cell_type": "code",
   "execution_count": null,
   "id": "4ed8d94e-b9aa-4910-a225-4eb9e50a2f9b",
   "metadata": {},
   "outputs": [],
   "source": [
    "#| default_exp linearregression"
   ]
  },
  {
   "cell_type": "code",
   "execution_count": null,
   "id": "eb29e1ac-b095-4bf7-8cc5-0c6acd262e03",
   "metadata": {},
   "outputs": [],
   "source": []
  }
 ],
 "metadata": {
  "kernelspec": {
   "display_name": "python3",
   "language": "python",
   "name": "python3"
  }
 },
 "nbformat": 4,
 "nbformat_minor": 5
}
