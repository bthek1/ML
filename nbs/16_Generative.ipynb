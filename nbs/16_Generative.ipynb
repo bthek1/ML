{
 "cells": [
  {
   "cell_type": "markdown",
   "id": "9f37bf77-abc9-4e8d-8907-f450148dea48",
   "metadata": {},
   "source": [
    "# Generative Models\n",
    "\n",
    "> Generative Models and Learning from Unlabelled Data (coming soon)\n",
    "\n",
    "- skip_showdoc: true\n",
    "- skip_exec: true"
   ]
  },
  {
   "cell_type": "code",
   "execution_count": null,
   "id": "21c97d35-5888-4e2d-a76e-eec4fca64071",
   "metadata": {},
   "outputs": [],
   "source": [
    "#| default_exp generative"
   ]
  },
  {
   "cell_type": "code",
   "execution_count": null,
   "id": "d56e1c5b-97e3-4c0f-80e1-5f87b99a6690",
   "metadata": {},
   "outputs": [],
   "source": []
  },
  {
   "cell_type": "code",
   "execution_count": null,
   "id": "0c36ee46-121e-492f-9f6d-fd8890a6b56e",
   "metadata": {},
   "outputs": [],
   "source": []
  }
 ],
 "metadata": {
  "kernelspec": {
   "display_name": "python3",
   "language": "python",
   "name": "python3"
  },
  "widgets": {
   "application/vnd.jupyter.widget-state+json": {
    "state": {},
    "version_major": 2,
    "version_minor": 0
   }
  }
 },
 "nbformat": 4,
 "nbformat_minor": 5
}
