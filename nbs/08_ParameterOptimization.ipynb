{
 "cells": [
  {
   "cell_type": "markdown",
   "id": "9e6244e0-5260-45ff-b467-9b77edf3c353",
   "metadata": {},
   "source": [
    "# Parameter Optimization\n",
    "\n",
    "> Parameter Optimization"
   ]
  },
  {
   "cell_type": "code",
   "execution_count": null,
   "id": "0ab9733d-784b-4519-9fb0-386781a2dc81",
   "metadata": {},
   "outputs": [],
   "source": [
    "#| default_exp parameterOptimization"
   ]
  },
  {
   "cell_type": "code",
   "execution_count": null,
   "id": "f8ab8488-2dd7-413e-b65d-7df11a1ebe56",
   "metadata": {},
   "outputs": [],
   "source": []
  }
 ],
 "metadata": {
  "kernelspec": {
   "display_name": "python3",
   "language": "python",
   "name": "python3"
  }
 },
 "nbformat": 4,
 "nbformat_minor": 5
}
