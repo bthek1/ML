{
 "cells": [
  {
   "cell_type": "markdown",
   "id": "1d8d8ec7-363a-4539-a0d1-2cb55697a927",
   "metadata": {},
   "source": [
    "# Regularisation\n",
    "\n",
    "> Regularisation\n",
    " "
   ]
  },
  {
   "cell_type": "code",
   "execution_count": null,
   "id": "7b061415-30f5-4045-a081-fadd022d8cd5",
   "metadata": {},
   "outputs": [],
   "source": [
    "#| default_exp regularisation"
   ]
  },
  {
   "cell_type": "code",
   "execution_count": null,
   "id": "192bbb7a-9c84-4e9d-b265-67f6a12495e6",
   "metadata": {},
   "outputs": [],
   "source": []
  }
 ],
 "metadata": {
  "kernelspec": {
   "display_name": "python3",
   "language": "python",
   "name": "python3"
  }
 },
 "nbformat": 4,
 "nbformat_minor": 5
}
